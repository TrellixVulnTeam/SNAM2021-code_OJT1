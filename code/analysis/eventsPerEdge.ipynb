{
 "cells": [
  {
   "cell_type": "code",
   "execution_count": 1,
   "id": "loaded-router",
   "metadata": {
    "execution": {
     "iopub.execute_input": "2021-03-04T12:18:31.835873Z",
     "iopub.status.busy": "2021-03-04T12:18:31.835627Z",
     "iopub.status.idle": "2021-03-04T12:18:32.898109Z",
     "shell.execute_reply": "2021-03-04T12:18:32.897619Z",
     "shell.execute_reply.started": "2021-03-04T12:18:31.835798Z"
    }
   },
   "outputs": [
    {
     "name": "stdout",
     "output_type": "stream",
     "text": [
      "/scratch/bruingjde/SNAM2021-code\n"
     ]
    }
   ],
   "source": [
    "%cd /scratch/bruingjde/SNAM2021-code/\n",
    "\n",
    "import collections, os, typing\n",
    "\n",
    "import joblib\n",
    "import matplotlib.pyplot as plt\n",
    "import networkx as nx\n",
    "import numpy as np\n",
    "import pandas as pd\n",
    "import scipy\n",
    "import seaborn as sns\n",
    "import sklearn.linear_model\n",
    "import sklearn.model_selection\n",
    "import sklearn.metrics\n",
    "import sklearn.pipeline\n",
    "import sklearn.preprocessing\n",
    "from tqdm.auto import tqdm\n",
    "\n",
    "import tlp"
   ]
  },
  {
   "cell_type": "code",
   "execution_count": 7,
   "id": "physical-april",
   "metadata": {
    "execution": {
     "iopub.execute_input": "2021-03-04T12:20:30.194160Z",
     "iopub.status.busy": "2021-03-04T12:20:30.193820Z",
     "iopub.status.idle": "2021-03-04T12:20:30.199502Z",
     "shell.execute_reply": "2021-03-04T12:20:30.198681Z",
     "shell.execute_reply.started": "2021-03-04T12:20:30.194124Z"
    }
   },
   "outputs": [],
   "source": [
    "def events_per_edge(index):\n",
    "  edgelist = pd.read_pickle(os.path.join('data', f'{index:02}', 'edgelist.pkl'))\n",
    "  edges_per_nodepair_distribution = edgelist.groupby(['source', 'target'])['datetime'].count().value_counts()\n",
    "  return (index, edges_per_nodepair_distribution)"
   ]
  },
  {
   "cell_type": "code",
   "execution_count": 8,
   "id": "lesser-chorus",
   "metadata": {
    "execution": {
     "iopub.execute_input": "2021-03-04T12:20:38.574967Z",
     "iopub.status.busy": "2021-03-04T12:20:38.574741Z",
     "iopub.status.idle": "2021-03-04T12:20:59.397291Z",
     "shell.execute_reply": "2021-03-04T12:20:59.396215Z",
     "shell.execute_reply.started": "2021-03-04T12:20:38.574947Z"
    }
   },
   "outputs": [
    {
     "data": {
      "application/vnd.jupyter.widget-view+json": {
       "model_id": "",
       "version_major": 2,
       "version_minor": 0
      },
      "text/plain": [
       "  0%|          | 0/30 [00:00<?, ?it/s]"
      ]
     },
     "metadata": {},
     "output_type": "display_data"
    }
   ],
   "source": [
    "result = tlp.ProgressParallel(n_jobs=30, total=30)(\n",
    "  joblib.delayed(events_per_edge)(index) for index in range(1, 31)\n",
    ")"
   ]
  },
  {
   "cell_type": "code",
   "execution_count": 12,
   "id": "happy-absence",
   "metadata": {
    "execution": {
     "iopub.execute_input": "2021-03-04T12:21:54.977152Z",
     "iopub.status.busy": "2021-03-04T12:21:54.976780Z",
     "iopub.status.idle": "2021-03-04T12:21:54.983965Z",
     "shell.execute_reply": "2021-03-04T12:21:54.983270Z",
     "shell.execute_reply.started": "2021-03-04T12:21:54.977117Z"
    }
   },
   "outputs": [
    {
     "data": {
      "text/plain": [
       "{1,\n",
       " 2,\n",
       " 8,\n",
       " 34,\n",
       " 22650,\n",
       " 32029,\n",
       " 335708,\n",
       " 717667,\n",
       " 1729983,\n",
       " 9375374,\n",
       " 33140017,\n",
       " 39953145}"
      ]
     },
     "execution_count": 12,
     "metadata": {},
     "output_type": "execute_result"
    }
   ],
   "source": [
    "{v.iloc[-1] for index, v in result}"
   ]
  },
  {
   "cell_type": "code",
   "execution_count": null,
   "id": "indie-butler",
   "metadata": {},
   "outputs": [],
   "source": []
  }
 ],
 "metadata": {
  "kernelspec": {
   "display_name": "Python 3",
   "language": "python",
   "name": "python3"
  },
  "language_info": {
   "codemirror_mode": {
    "name": "ipython",
    "version": 3
   },
   "file_extension": ".py",
   "mimetype": "text/x-python",
   "name": "python",
   "nbconvert_exporter": "python",
   "pygments_lexer": "ipython3",
   "version": "3.9.5"
  }
 },
 "nbformat": 4,
 "nbformat_minor": 5
}
