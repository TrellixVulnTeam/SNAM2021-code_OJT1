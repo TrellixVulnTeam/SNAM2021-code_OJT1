{
 "cells": [
  {
   "cell_type": "code",
   "execution_count": 2,
   "id": "equal-spending",
   "metadata": {
    "execution": {
     "iopub.execute_input": "2021-03-04T12:17:09.262036Z",
     "iopub.status.busy": "2021-03-04T12:17:09.261707Z",
     "iopub.status.idle": "2021-03-04T12:17:10.300186Z",
     "shell.execute_reply": "2021-03-04T12:17:10.299447Z",
     "shell.execute_reply.started": "2021-03-04T12:17:09.262000Z"
    }
   },
   "outputs": [
    {
     "name": "stdout",
     "output_type": "stream",
     "text": [
      "/scratch/bruingjde/SNAM2021-code\n"
     ]
    }
   ],
   "source": [
    "%cd /scratch/bruingjde/SNAM2021-code/\n",
    "\n",
    "import collections, os, typing\n",
    "\n",
    "import joblib\n",
    "import matplotlib.pyplot as plt\n",
    "import networkx as nx\n",
    "import numpy as np\n",
    "import pandas as pd\n",
    "import scipy\n",
    "import seaborn as sns\n",
    "import sklearn.linear_model\n",
    "import sklearn.model_selection\n",
    "import sklearn.metrics\n",
    "import sklearn.pipeline\n",
    "import sklearn.preprocessing\n",
    "from tqdm.auto import tqdm\n",
    "\n",
    "import tlp"
   ]
  },
  {
   "cell_type": "code",
   "execution_count": 3,
   "id": "capable-truth",
   "metadata": {
    "execution": {
     "iopub.execute_input": "2021-03-04T12:17:10.301153Z",
     "iopub.status.busy": "2021-03-04T12:17:10.301012Z",
     "iopub.status.idle": "2021-03-04T12:17:10.637305Z",
     "shell.execute_reply": "2021-03-04T12:17:10.636265Z",
     "shell.execute_reply.started": "2021-03-04T12:17:10.301135Z"
    }
   },
   "outputs": [],
   "source": [
    "def events_per_edge(index):\n",
    "  edgelist = pd.read_pickle(os.path.join('data', f'{index:02}', 'edgelist.pkl'))\n",
    "  events = len(edgelist)\n",
    "  edges = len(edgelist[['source', 'target']].drop_duplicates())\n",
    "  return (index, events / edges)"
   ]
  },
  {
   "cell_type": "code",
   "execution_count": 4,
   "id": "animated-promotion",
   "metadata": {
    "execution": {
     "iopub.execute_input": "2021-03-04T12:17:10.639821Z",
     "iopub.status.busy": "2021-03-04T12:17:10.639592Z",
     "iopub.status.idle": "2021-03-04T12:17:24.011303Z",
     "shell.execute_reply": "2021-03-04T12:17:24.010591Z",
     "shell.execute_reply.started": "2021-03-04T12:17:10.639793Z"
    }
   },
   "outputs": [
    {
     "data": {
      "application/vnd.jupyter.widget-view+json": {
       "model_id": "",
       "version_major": 2,
       "version_minor": 0
      },
      "text/plain": [
       "  0%|          | 0/30 [00:00<?, ?it/s]"
      ]
     },
     "metadata": {},
     "output_type": "display_data"
    }
   ],
   "source": [
    "result = tlp.ProgressParallel(n_jobs=30, total=30)(\n",
    "  joblib.delayed(events_per_edge)(index) for index in range(1, 31)\n",
    ")"
   ]
  },
  {
   "cell_type": "code",
   "execution_count": 7,
   "id": "careful-throw",
   "metadata": {
    "execution": {
     "iopub.execute_input": "2021-03-04T12:17:39.384919Z",
     "iopub.status.busy": "2021-03-04T12:17:39.384587Z",
     "iopub.status.idle": "2021-03-04T12:17:39.395213Z",
     "shell.execute_reply": "2021-03-04T12:17:39.394308Z",
     "shell.execute_reply.started": "2021-03-04T12:17:39.384885Z"
    }
   },
   "outputs": [
    {
     "data": {
      "text/plain": [
       "15     1.000000\n",
       "16     1.000000\n",
       "20     1.000000\n",
       "10     1.000000\n",
       "17     1.000000\n",
       "8      1.000000\n",
       "18     1.000000\n",
       "4      1.000000\n",
       "27     1.000000\n",
       "11     1.002424\n",
       "9      1.014154\n",
       "24     1.019444\n",
       "21     1.030833\n",
       "6      1.353547\n",
       "25     1.438842\n",
       "23     1.560559\n",
       "5      1.593639\n",
       "22     1.615654\n",
       "1      1.766873\n",
       "2      1.944224\n",
       "28     2.034211\n",
       "14     2.110818\n",
       "29     2.305068\n",
       "26     2.663362\n",
       "7      3.541009\n",
       "3      3.566349\n",
       "13     4.756665\n",
       "19     7.013934\n",
       "30    13.331221\n",
       "12    14.337310\n",
       "dtype: float64"
      ]
     },
     "execution_count": 7,
     "metadata": {},
     "output_type": "execute_result"
    }
   ],
   "source": [
    "pd.Series(dict(result)).sort_values()"
   ]
  },
  {
   "cell_type": "code",
   "execution_count": 24,
   "id": "joint-orbit",
   "metadata": {
    "execution": {
     "iopub.execute_input": "2021-02-28T18:20:33.761946Z",
     "iopub.status.busy": "2021-02-28T18:20:33.761584Z",
     "iopub.status.idle": "2021-02-28T18:20:33.769170Z",
     "shell.execute_reply": "2021-02-28T18:20:33.768395Z",
     "shell.execute_reply.started": "2021-02-28T18:20:33.761908Z"
    }
   },
   "outputs": [
    {
     "data": {
      "text/plain": [
       "{1: True,\n",
       " 2: True,\n",
       " 3: True,\n",
       " 4: False,\n",
       " 5: True,\n",
       " 6: True,\n",
       " 7: True,\n",
       " 8: False,\n",
       " 9: False,\n",
       " 10: False,\n",
       " 11: False,\n",
       " 12: True,\n",
       " 13: True,\n",
       " 14: True,\n",
       " 15: False,\n",
       " 16: False,\n",
       " 17: False,\n",
       " 18: False,\n",
       " 19: True,\n",
       " 20: False,\n",
       " 21: False,\n",
       " 22: True,\n",
       " 23: True,\n",
       " 24: False,\n",
       " 25: True,\n",
       " 26: True,\n",
       " 27: False,\n",
       " 28: True,\n",
       " 29: True,\n",
       " 30: True}"
      ]
     },
     "execution_count": 24,
     "metadata": {},
     "output_type": "execute_result"
    }
   ],
   "source": [
    "{index: events_per_edge > 1.05 for index, events_per_edge in result}"
   ]
  },
  {
   "cell_type": "code",
   "execution_count": 25,
   "id": "original-forum",
   "metadata": {
    "execution": {
     "iopub.execute_input": "2021-02-28T18:20:45.794710Z",
     "iopub.status.busy": "2021-02-28T18:20:45.794365Z",
     "iopub.status.idle": "2021-02-28T18:20:45.801773Z",
     "shell.execute_reply": "2021-02-28T18:20:45.800852Z",
     "shell.execute_reply.started": "2021-02-28T18:20:45.794675Z"
    }
   },
   "outputs": [],
   "source": [
    "hypergraph = {\n",
    "  1: True, 2: True, 3: True, 4: False, 5: True, 6: True, 7: True, 8: False, 9: False, 10: False, 11: False, 12: True, 13: True, 14: True, 15: False, \n",
    "  16: False, 17: False, 18: False, 19: True, 20: False, 21: False, 22: True, 23: True, 24: False, 25: True, 26: True, 27: False, 28: True, 29: True, 30: True\n",
    "}"
   ]
  },
  {
   "cell_type": "code",
   "execution_count": null,
   "id": "adjustable-width",
   "metadata": {},
   "outputs": [],
   "source": []
  }
 ],
 "metadata": {
  "kernelspec": {
   "display_name": "Python 3",
   "language": "python",
   "name": "python3"
  },
  "language_info": {
   "codemirror_mode": {
    "name": "ipython",
    "version": 3
   },
   "file_extension": ".py",
   "mimetype": "text/x-python",
   "name": "python",
   "nbconvert_exporter": "python",
   "pygments_lexer": "ipython3",
   "version": "3.9.5"
  }
 },
 "nbformat": 4,
 "nbformat_minor": 5
}
