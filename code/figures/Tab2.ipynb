{
 "cells": [
  {
   "cell_type": "code",
   "execution_count": 1,
   "id": "second-communist",
   "metadata": {
    "execution": {
     "iopub.execute_input": "2021-06-21T15:20:26.025504Z",
     "iopub.status.busy": "2021-06-21T15:20:26.025176Z",
     "iopub.status.idle": "2021-06-21T15:20:27.574674Z",
     "shell.execute_reply": "2021-06-21T15:20:27.573131Z",
     "shell.execute_reply.started": "2021-06-21T15:20:26.025417Z"
    },
    "tags": []
   },
   "outputs": [
    {
     "name": "stdout",
     "output_type": "stream",
     "text": [
      "/data/bruingjde/publications/SNAM2021-code\n"
     ]
    }
   ],
   "source": [
    "%cd /data/bruingjde/publications/SNAM2021-code/\n",
    "\n",
    "from constants import *"
   ]
  },
  {
   "cell_type": "markdown",
   "id": "together-carpet",
   "metadata": {},
   "source": [
    "# I"
   ]
  },
  {
   "cell_type": "code",
   "execution_count": 2,
   "id": "public-eleven",
   "metadata": {
    "execution": {
     "iopub.execute_input": "2021-06-21T15:20:27.577104Z",
     "iopub.status.busy": "2021-06-21T15:20:27.576842Z",
     "iopub.status.idle": "2021-06-21T15:20:35.858303Z",
     "shell.execute_reply": "2021-06-21T15:20:35.840207Z",
     "shell.execute_reply.started": "2021-06-21T15:20:27.577072Z"
    },
    "tags": []
   },
   "outputs": [],
   "source": [
    "def logistic_regression_I(network: int):\n",
    "  X = dict()\n",
    "  for heuristic in ['aa', 'cn', 'jc', 'pa']:\n",
    "    X[heuristic] = np.load(f'data/{network:02}/features/time_agnostic/{heuristic}.npy')\n",
    "  X = pd.DataFrame(X)\n",
    "    \n",
    "  y = np.load(f'data/{network:02}/targets_sampled.npy')\n",
    "  \n",
    "  X_train, X_test, y_train, y_test = (\n",
    "    sklearn.model_selection.train_test_split(X, y))\n",
    "  pipe = sklearn.pipeline.make_pipeline(\n",
    "    sklearn.preprocessing.StandardScaler(),\n",
    "    sklearn.linear_model.LogisticRegression(max_iter=10000)) # type: ignore\n",
    "  pipe.fit(X_train, y_train)\n",
    "  \n",
    "  auc = sklearn.metrics.roc_auc_score(\n",
    "    y_true=y_test, y_score=pipe.predict_proba(X_test)[:,1]) # type: ignore\n",
    "  \n",
    "  return auc\n",
    "\n",
    "I = {network: logistic_regression_I(network) for network in network_indices}"
   ]
  },
  {
   "cell_type": "markdown",
   "id": "changing-hebrew",
   "metadata": {},
   "source": [
    "# Time aware"
   ]
  },
  {
   "cell_type": "code",
   "execution_count": 3,
   "id": "weird-staff",
   "metadata": {
    "execution": {
     "iopub.execute_input": "2021-06-21T15:20:35.874420Z",
     "iopub.status.busy": "2021-06-21T15:20:35.873467Z",
     "iopub.status.idle": "2021-06-21T15:25:27.372641Z",
     "shell.execute_reply": "2021-06-21T15:25:27.370386Z",
     "shell.execute_reply.started": "2021-06-21T15:20:35.874353Z"
    },
    "tags": []
   },
   "outputs": [],
   "source": [
    "def logistic_regression_I_II_III_hypergraph(network: int):\n",
    "  X = dict()\n",
    "  # Type I features\n",
    "  for heuristic in ['aa', 'cn', 'jc', 'pa']:\n",
    "    X[heuristic] = (\n",
    "      np.load(f'data/{network:02}/features/time_agnostic/{heuristic}.npy'))\n",
    "    \n",
    "  # Type II features\n",
    "  for time_strategy in time_strategies:\n",
    "    for nodepair_strategy in nodepair_strategies:\n",
    "      for aggregation_strategy in ['q0', 'q25', 'q50', 'q75', 'q100', \n",
    "                                   'm0', 'm1', 'm2', 'm3']:\n",
    "        X[(time_strategy, nodepair_strategy, aggregation_strategy)] = (\n",
    "          np.load(\n",
    "            f'data/{network:02}/features/time_node/'\n",
    "            f'{time_strategy}_{nodepair_strategy}_{aggregation_strategy}.npy'))\n",
    "  # Type III features      \n",
    "  for heuristic in ['aa', 'cn', 'jc', 'pa']:  \n",
    "    for time_strategy in time_strategies:\n",
    "      for aggregation_strategy in ['q0', 'q25', 'q50', 'q75', 'q100', \n",
    "                                   'm0', 'm1']:\n",
    "          X[(heuristic, time_strategy, aggregation_strategy)] = (\n",
    "            np.load(\n",
    "              f'data/{network:02}/features/time_edge/'\n",
    "              f'{heuristic}_{time_strategy}_{aggregation_strategy}.npy'))\n",
    "    \n",
    "  X = pd.DataFrame(X)\n",
    "    \n",
    "  y = np.load(f'data/{network:02}/targets_sampled.npy')\n",
    "  \n",
    "  X_train, X_test, y_train, y_test = (\n",
    "    sklearn.model_selection.train_test_split(X, y))\n",
    "  pipe = sklearn.pipeline.make_pipeline(\n",
    "    sklearn.preprocessing.StandardScaler(),\n",
    "    sklearn.linear_model.LogisticRegression(max_iter=10000))\n",
    "  pipe.fit(X_train, y_train)\n",
    "  \n",
    "  auc = sklearn.metrics.roc_auc_score(\n",
    "    y_true=y_test, y_score=pipe.predict_proba(X_test)[:,1])\n",
    "  \n",
    "  return auc\n",
    "\n",
    "def logistic_regression_I_II_III_simplegraph(network: int):\n",
    "  X = dict()\n",
    "  # Type I\n",
    "  for heuristic in ['aa', 'cn', 'jc', 'pa']:\n",
    "    X[heuristic] = (\n",
    "      np.load(f'data/{network:02}/features/time_agnostic/{heuristic}.npy'))\n",
    "  # Type II \n",
    "  for time_strategy in time_strategies:\n",
    "    for nodepair_strategy in nodepair_strategies:\n",
    "        X[(time_strategy, nodepair_strategy)] = (\n",
    "          np.load(\n",
    "            f'data/{network:02}/features/time_node/'\n",
    "            f'{time_strategy}_{nodepair_strategy}.npy'))\n",
    "  # Type III\n",
    "  for heuristic in ['aa', 'cn', 'jc', 'pa']:  \n",
    "    for time_strategy in time_strategies:\n",
    "      X[(heuristic, time_strategy)] = (\n",
    "        np.load(\n",
    "          f'data/{network:02}/features/time_edge/'\n",
    "          f'{heuristic}_{time_strategy}.npy'))\n",
    "      \n",
    "  X = pd.DataFrame(X)\n",
    "    \n",
    "  y = np.load(f'data/{network:02}/targets_sampled.npy')\n",
    "  \n",
    "  X_train, X_test, y_train, y_test = (\n",
    "    sklearn.model_selection.train_test_split(X, y))\n",
    "  pipe = sklearn.pipeline.make_pipeline(\n",
    "    sklearn.preprocessing.StandardScaler(),\n",
    "    sklearn.linear_model.LogisticRegression(max_iter=10000))\n",
    "  pipe.fit(X_train, y_train)\n",
    "  \n",
    "  auc = sklearn.metrics.roc_auc_score(\n",
    "    y_true=y_test, y_score=pipe.predict_proba(X_test)[:,1])\n",
    "  \n",
    "  return auc\n",
    "\n",
    "time_aware_performance = {\n",
    "  network: logistic_regression_I_II_III_hypergraph(network) \n",
    "  for network in hypergraph_indices} | {\n",
    "  network: logistic_regression_I_II_III_simplegraph(network) \n",
    "  for network in simplegraph_indices\n",
    "}"
   ]
  },
  {
   "cell_type": "code",
   "execution_count": 4,
   "id": "imported-quest",
   "metadata": {
    "execution": {
     "iopub.execute_input": "2021-06-21T15:25:27.376441Z",
     "iopub.status.busy": "2021-06-21T15:25:27.375947Z",
     "iopub.status.idle": "2021-06-21T15:25:27.419885Z",
     "shell.execute_reply": "2021-06-21T15:25:27.418342Z",
     "shell.execute_reply.started": "2021-06-21T15:25:27.376380Z"
    },
    "tags": []
   },
   "outputs": [],
   "source": [
    "ylabel = 'time aware (AUC)'\n",
    "xlabel = 'time agnostic (AUC)'\n",
    "\n",
    "df = pd.concat(\n",
    "  {\n",
    "    ylabel: pd.Series(time_aware_performance), \n",
    "    xlabel: pd.Series(I)\n",
    "  },\n",
    "  axis=1)\n",
    "df['category'] = get_networks()['category']"
   ]
  },
  {
   "cell_type": "code",
   "execution_count": 5,
   "id": "commercial-covering",
   "metadata": {
    "execution": {
     "iopub.execute_input": "2021-06-21T15:25:27.422633Z",
     "iopub.status.busy": "2021-06-21T15:25:27.422151Z",
     "iopub.status.idle": "2021-06-21T15:25:27.482959Z",
     "shell.execute_reply": "2021-06-21T15:25:27.480989Z",
     "shell.execute_reply.started": "2021-06-21T15:25:27.422562Z"
    },
    "tags": []
   },
   "outputs": [],
   "source": [
    "df.rename(columns={'category': 'Scientific domain'}, inplace=True)\n",
    "df.replace({'Scientific domain': {'social': 'Social', 'information': 'Information', 'technological': 'Technological'}}, inplace=True)"
   ]
  },
  {
   "cell_type": "code",
   "execution_count": 6,
   "id": "decimal-respect",
   "metadata": {
    "execution": {
     "iopub.execute_input": "2021-06-21T15:25:27.486216Z",
     "iopub.status.busy": "2021-06-21T15:25:27.485730Z",
     "iopub.status.idle": "2021-06-21T15:25:28.495494Z",
     "shell.execute_reply": "2021-06-21T15:25:28.494265Z",
     "shell.execute_reply.started": "2021-06-21T15:25:27.486156Z"
    },
    "tags": []
   },
   "outputs": [
    {
     "data": {
      "image/png": "[encoded data removed]",
      "text/plain": [
       "<Figure size 237.6x178.2 with 1 Axes>"
      ]
     },
     "metadata": {
      "needs_background": "light"
     },
     "output_type": "display_data"
    }
   ],
   "source": [
    "auc_values = df[[ylabel, xlabel]].values.flatten()\n",
    "lim = (min(auc_values), 1)\n",
    "\n",
    "fontsize=8\n",
    "rc = {\n",
    "  'xtick.top': True, 'ytick.right': True, 'figure.figsize': (3.30,2.475), \n",
    "  'axes.titlesize': fontsize, \n",
    "  'axes.labelsize': fontsize, \n",
    "  'xtick.labelsize': fontsize, \n",
    "  'ytick.labelsize': fontsize, \n",
    "  'legend.fontsize': fontsize, \n",
    "  'legend.title_fontsize': fontsize,\n",
    "}\n",
    "\n",
    "with plt.rc_context(rc):\n",
    "  ax = sns.scatterplot(data=df, x=xlabel, y=ylabel, \n",
    "                  hue='Scientific domain', style='Scientific domain')\n",
    "  sns.regplot(data=df, x=xlabel, y=ylabel, \n",
    "              scatter=False, color='black', ax=ax)\n",
    "  ax.axline((0,0), (1,1), ls='--', c='black')\n",
    "  ax.axis('scaled')\n",
    "  ax.axis([.65, 1, .65, 1])\n",
    "  ax.set_xlabel('Static topological features\\n(AUC)')\n",
    "  ax.set_ylabel('Temporal weighted\\ntopological features(AUC)')\n",
    "  ax.xaxis.set_minor_locator(matplotlib.ticker.MultipleLocator(.01))\n",
    "  ax.yaxis.set_minor_locator(matplotlib.ticker.MultipleLocator(.01))\n",
    "  ax.xaxis.set_major_locator(matplotlib.ticker.MultipleLocator(.1))\n",
    "  ax.yaxis.set_major_locator(matplotlib.ticker.MultipleLocator(.1))\n",
    "  plt.legend()\n",
    "  plt.tight_layout()\n",
    "  plt.savefig('code/figures/output/results.pdf')"
   ]
  },
  {
   "cell_type": "code",
   "execution_count": 7,
   "id": "meaning-victory",
   "metadata": {
    "execution": {
     "iopub.execute_input": "2021-06-21T15:25:28.499565Z",
     "iopub.status.busy": "2021-06-21T15:25:28.499195Z",
     "iopub.status.idle": "2021-06-21T15:25:28.654935Z",
     "shell.execute_reply": "2021-06-21T15:25:28.652220Z",
     "shell.execute_reply.started": "2021-06-21T15:25:28.499519Z"
    },
    "tags": []
   },
   "outputs": [],
   "source": [
    "labels = networks.copy()\n",
    "node = pd.read_pickle('code/figures/temp.pkl')\n",
    "size = pd.read_pickle('code/figures/size.pkl')\n",
    "IIb = pd.Series(pd.read_pickle('code/figures/IIb2.pkl'), name='q0')"
   ]
  },
  {
   "cell_type": "code",
   "execution_count": 8,
   "id": "marked-motivation",
   "metadata": {
    "execution": {
     "iopub.execute_input": "2021-06-21T15:25:28.657593Z",
     "iopub.status.busy": "2021-06-21T15:25:28.657178Z",
     "iopub.status.idle": "2021-06-21T15:25:28.676509Z",
     "shell.execute_reply": "2021-06-21T15:25:28.675613Z",
     "shell.execute_reply.started": "2021-06-21T15:25:28.657548Z"
    },
    "tags": []
   },
   "outputs": [],
   "source": [
    "merged = pd.concat(\n",
    "  [df.round(3).drop(columns='Scientific domain'), \n",
    "   labels, \n",
    "   node.round(3).drop(columns='category'), \n",
    "   size, \n",
    "   IIb.round(3)\n",
    "  ], axis=1)\n",
    "merged['q0'].fillna(merged['time aware (AUC)'], inplace=True)\n",
    "merged['edge type'] = pd.Series(merged.index.isin(hypergraph_indices), \n",
    "                           index=merged.index)\n",
    "merged['edge type'].replace({True: 'multi', False: 'simple'}, \n",
    "                       inplace=True)"
   ]
  },
  {
   "cell_type": "code",
   "execution_count": 9,
   "id": "committed-carol",
   "metadata": {
    "execution": {
     "iopub.execute_input": "2021-06-21T15:25:28.677777Z",
     "iopub.status.busy": "2021-06-21T15:25:28.677527Z",
     "iopub.status.idle": "2021-06-21T15:25:28.732318Z",
     "shell.execute_reply": "2021-06-21T15:25:28.731540Z",
     "shell.execute_reply.started": "2021-06-21T15:25:28.677749Z"
    },
    "tags": []
   },
   "outputs": [],
   "source": [
    "rename_columns = {\n",
    "  'time agnostic (AUC)': 'I', \n",
    "  'q0': 'II-B',\n",
    "  'time aware (AUC)': 'II-A', \n",
    "  'auc (node activity + static features)': 'III',\n",
    "  'category': 'Scientific domain'\n",
    "}\n",
    "cols = ['label', 'Scientific domain', 'edge type', 'nodes', 'I', 'II-A', 'II-B', 'III']\n",
    "table = merged.rename(columns=rename_columns).loc[:, cols]\n",
    "table.replace({'Scientific domain': {'social': 'Social', 'information': 'Information', 'technological': 'Technological'}}, inplace=True)\n",
    "table.sort_values(['nodes'], inplace=True)"
   ]
  },
  {
   "cell_type": "code",
   "execution_count": 10,
   "id": "elder-significance",
   "metadata": {
    "execution": {
     "iopub.execute_input": "2021-06-21T15:25:28.733857Z",
     "iopub.status.busy": "2021-06-21T15:25:28.733574Z",
     "iopub.status.idle": "2021-06-21T15:25:28.783777Z",
     "shell.execute_reply": "2021-06-21T15:25:28.782760Z",
     "shell.execute_reply.started": "2021-06-21T15:25:28.733823Z"
    },
    "tags": []
   },
   "outputs": [],
   "source": [
    "def thousand_sep(x):\n",
    "  return f'{x:,}'"
   ]
  },
  {
   "cell_type": "code",
   "execution_count": 11,
   "id": "bulgarian-poetry",
   "metadata": {
    "execution": {
     "iopub.execute_input": "2021-06-21T15:25:28.786355Z",
     "iopub.status.busy": "2021-06-21T15:25:28.785770Z",
     "iopub.status.idle": "2021-06-21T15:25:28.933184Z",
     "shell.execute_reply": "2021-06-21T15:25:28.931978Z",
     "shell.execute_reply.started": "2021-06-21T15:25:28.786282Z"
    },
    "tags": []
   },
   "outputs": [
    {
     "name": "stdout",
     "output_type": "stream",
     "text": [
      "\\begin{table}\n",
      "\\centering\n",
      "\\caption{Performance obtained for feature set I-III.}\n",
      "\\label{table:results}\n",
      "\\begin{tabular}{l@{\\hspace{1em}}c@{\\hspace{1em}}c@{\\hspace{1em}}r@{\\hspace{1em}}c@{\\hspace{1em}}c@{\\hspace{1em}}c@{\\hspace{1em}}c}\n",
      "\\toprule\n",
      "label & Scientific domain & edge type &     nodes &     I &  II-A &  II-B &   III \\\\\n",
      "\\midrule\n",
      " Rado &            Social &     multi &       167 & 0.856 & 0.924 & 0.852 & 0.902 \\\\\n",
      "   UC &       Information &     multi &       899 & 0.746 & 0.894 & 0.744 & 0.873 \\\\\n",
      "   EU &            Social &     multi &       986 & 0.824 & 0.872 & 0.811 & 0.849 \\\\\n",
      "  Dem &            Social &     multi &     1,891 & 0.919 & 0.948 & 0.919 & 0.938 \\\\\n",
      " bitA &            Social &    simple &     3,683 & 0.862 & 0.946 & 0.946 & 0.940 \\\\\n",
      "bitOT &            Social &    simple &     5,573 & 0.825 & 0.947 & 0.947 & 0.939 \\\\\n",
      "chess &       Information &    simple &     6,050 & 0.656 & 0.741 & 0.741 & 0.736 \\\\\n",
      "HepTh &       Information &     multi &     6,798 & 0.763 & 0.833 & 0.776 & 0.819 \\\\\n",
      "HepPh &       Information &     multi &    16,959 & 0.820 & 0.870 & 0.834 & 0.868 \\\\\n",
      "Condm &            Social &     multi &    17,218 & 0.691 & 0.759 & 0.706 & 0.728 \\\\\n",
      "SX-MO &            Social &     multi &    24,818 & 0.873 & 0.942 & 0.909 & 0.933 \\\\\n",
      "D-rep &            Social &    simple &    30,398 & 0.840 & 0.867 & 0.867 & 0.865 \\\\\n",
      "Rbody &     Technological &     multi &    35,010 & 0.875 & 0.905 & 0.854 & 0.890 \\\\\n",
      " Rtit &     Technological &     multi &    53,018 & 0.908 & 0.929 & 0.906 & 0.925 \\\\\n",
      " FB-w &            Social &    simple &    55,387 & 0.757 & 0.795 & 0.795 & 0.788 \\\\\n",
      " FB-l &            Social &    simple &    55,387 & 0.769 & 0.797 & 0.797 & 0.775 \\\\\n",
      "Enron &            Social &     multi &    87,273 & 0.848 & 0.915 & 0.873 & 0.909 \\\\\n",
      "loans &       Information &    simple &    89,269 & 0.787 & 0.950 & 0.950 & 0.946 \\\\\n",
      "trust &            Social &    simple &   114,467 & 0.892 & 0.940 & 0.940 & 0.937 \\\\\n",
      " Wiki &            Social &     multi &   116,836 & 0.866 & 0.947 & 0.896 & 0.939 \\\\\n",
      "  D-v &       Information &    simple &   139,409 & 0.932 & 0.932 & 0.932 & 0.939 \\\\\n",
      "SX-AU &            Social &     multi &   159,316 & 0.944 & 0.973 & 0.959 & 0.970 \\\\\n",
      "SX-SU &            Social &     multi &   194,085 & 0.920 & 0.962 & 0.946 & 0.961 \\\\\n",
      "  D-f &            Social &    simple &   279,374 & 0.896 & 0.928 & 0.928 & 0.924 \\\\\n",
      " AMin &            Social &     multi &   855,165 & 0.718 & 0.838 & 0.804 & 0.816 \\\\\n",
      " DBLP &            Social &     multi & 1,824,701 & 0.685 & 0.822 & 0.743 & 0.786 \\\\\n",
      "\\bottomrule\n",
      "\\end{tabular}\n",
      "\\end{table}\n",
      "\n"
     ]
    }
   ],
   "source": [
    "latex_table = table.to_latex(\n",
    "  index=False,\n",
    "  column_format=\n",
    "    'l@{\\hspace{1em}}c@{\\hspace{1em}}c@{\\hspace{1em}}r'\n",
    "    + 4*'@{\\hspace{1em}}c',\n",
    "  caption='Performance obtained for feature set I-III.',\n",
    "  formatters={'nodes': thousand_sep},\n",
    "  label='table:results',\n",
    "  escape=False,\n",
    "  multicolumn=False)\n",
    "print(latex_table)"
   ]
  },
  {
   "cell_type": "code",
   "execution_count": 12,
   "id": "apparent-association",
   "metadata": {
    "execution": {
     "iopub.execute_input": "2021-06-21T15:25:28.934739Z",
     "iopub.status.busy": "2021-06-21T15:25:28.934484Z",
     "iopub.status.idle": "2021-06-21T15:25:29.852771Z",
     "shell.execute_reply": "2021-06-21T15:25:29.851853Z",
     "shell.execute_reply.started": "2021-06-21T15:25:28.934710Z"
    },
    "tags": []
   },
   "outputs": [
    {
     "data": {
      "image/png": "[encoded data removed]",
      "text/plain": [
       "<Figure size 237.6x178.2 with 1 Axes>"
      ]
     },
     "metadata": {
      "needs_background": "light"
     },
     "output_type": "display_data"
    }
   ],
   "source": [
    "x_label = 'II-B'\n",
    "y_label = 'II-A'\n",
    "\n",
    "data = table[table['edge type'] == 'multi']\n",
    "\n",
    "auc_values = table[[x_label, y_label]].values.flatten()\n",
    "lim = (.6, 1)\n",
    "\n",
    "with plt.rc_context(rc):\n",
    "  ax = sns.scatterplot(data=data, x=x_label, y=y_label, hue='Scientific domain', \n",
    "                  style='Scientific domain')\n",
    "  sns.regplot(data=data, x=x_label, y=y_label, scatter=False, color='black', ax=ax)\n",
    "  ax.axline((0,0), (1,1), ls='--', c='grey')\n",
    "  ax.axis('scaled')\n",
    "  ax.axis([.6, 1, .6, 1])\n",
    "\n",
    "  plt.xlabel('Without multi-edge aggregation (AUC)')\n",
    "  plt.ylabel('With multi-edge aggregation (AUC)')\n",
    "  ax.xaxis.set_minor_locator(matplotlib.ticker.MultipleLocator(.01))\n",
    "  ax.yaxis.set_minor_locator(matplotlib.ticker.MultipleLocator(.01))\n",
    "  ax.xaxis.set_major_locator(matplotlib.ticker.MultipleLocator(.1))\n",
    "  ax.yaxis.set_major_locator(matplotlib.ticker.MultipleLocator(.1))\n",
    "  plt.tight_layout()\n",
    "  plt.savefig('code/figures/output/aggregation.pdf')"
   ]
  },
  {
   "cell_type": "code",
   "execution_count": 13,
   "id": "hairy-cleaners",
   "metadata": {
    "execution": {
     "iopub.execute_input": "2021-06-21T15:25:29.853860Z",
     "iopub.status.busy": "2021-06-21T15:25:29.853659Z",
     "iopub.status.idle": "2021-06-21T15:25:29.859696Z",
     "shell.execute_reply": "2021-06-21T15:25:29.858768Z",
     "shell.execute_reply.started": "2021-06-21T15:25:29.853835Z"
    },
    "tags": []
   },
   "outputs": [
    {
     "data": {
      "text/plain": [
       "(0.9150881482185772, 6.801825064874117e-07)"
      ]
     },
     "execution_count": 13,
     "metadata": {},
     "output_type": "execute_result"
    }
   ],
   "source": [
    "data['II-A']\n",
    "\n",
    "from scipy.stats.stats import pearsonr\n",
    "pearsonr(data['II-A'], data['II-B'])"
   ]
  },
  {
   "cell_type": "code",
   "execution_count": 14,
   "id": "central-granny",
   "metadata": {
    "execution": {
     "iopub.execute_input": "2021-06-21T15:25:29.860854Z",
     "iopub.status.busy": "2021-06-21T15:25:29.860649Z",
     "iopub.status.idle": "2021-06-21T15:25:29.967057Z",
     "shell.execute_reply": "2021-06-21T15:25:29.966128Z",
     "shell.execute_reply.started": "2021-06-21T15:25:29.860828Z"
    },
    "tags": []
   },
   "outputs": [
    {
     "data": {
      "text/plain": [
       "mean    0.065538\n",
       "std     0.042410\n",
       "dtype: float64"
      ]
     },
     "execution_count": 14,
     "metadata": {},
     "output_type": "execute_result"
    }
   ],
   "source": [
    "(table['II-A'] - table['I']).agg(['mean', 'std'])"
   ]
  },
  {
   "cell_type": "code",
   "execution_count": 15,
   "id": "streaming-variance",
   "metadata": {
    "execution": {
     "iopub.execute_input": "2021-06-21T15:25:29.968656Z",
     "iopub.status.busy": "2021-06-21T15:25:29.968330Z",
     "iopub.status.idle": "2021-06-21T15:25:30.035683Z",
     "shell.execute_reply": "2021-06-21T15:25:30.034504Z",
     "shell.execute_reply.started": "2021-06-21T15:25:29.968603Z"
    },
    "tags": []
   },
   "outputs": [
    {
     "data": {
      "text/plain": [
       "NormaltestResult(statistic=3.512966403788539, pvalue=0.17265097603669355)"
      ]
     },
     "execution_count": 15,
     "metadata": {},
     "output_type": "execute_result"
    }
   ],
   "source": [
    "import scipy.stats\n",
    "\n",
    "scipy.stats.normaltest(table['II-A'] - table['I'])"
   ]
  },
  {
   "cell_type": "code",
   "execution_count": 16,
   "id": "dense-ukraine",
   "metadata": {
    "execution": {
     "iopub.execute_input": "2021-06-21T15:25:30.038170Z",
     "iopub.status.busy": "2021-06-21T15:25:30.037679Z",
     "iopub.status.idle": "2021-06-21T15:25:31.321100Z",
     "shell.execute_reply": "2021-06-21T15:25:31.319993Z",
     "shell.execute_reply.started": "2021-06-21T15:25:30.038107Z"
    }
   },
   "outputs": [
    {
     "data": {
      "application/vnd.jupyter.widget-view+json": {
       "model_id": "c6b4f9ff9a3a4b52aa8626868e0c26ce",
       "version_major": 2,
       "version_minor": 0
      },
      "text/plain": [
       "  0%|          | 0/26 [00:00<?, ?it/s]"
      ]
     },
     "metadata": {},
     "output_type": "display_data"
    }
   ],
   "source": [
    "stats = get_all_stats(network_indices=network_indices) "
   ]
  },
  {
   "cell_type": "code",
   "execution_count": 17,
   "id": "employed-forwarding",
   "metadata": {
    "execution": {
     "iopub.execute_input": "2021-06-21T15:25:31.322613Z",
     "iopub.status.busy": "2021-06-21T15:25:31.322364Z",
     "iopub.status.idle": "2021-06-21T15:25:31.328947Z",
     "shell.execute_reply": "2021-06-21T15:25:31.328318Z",
     "shell.execute_reply.started": "2021-06-21T15:25:31.322580Z"
    },
    "tags": []
   },
   "outputs": [
    {
     "data": {
      "text/plain": [
       "1     0.114186\n",
       "2     0.059906\n",
       "3    -0.166689\n",
       "4     0.221522\n",
       "5     0.177355\n",
       "6     0.010808\n",
       "7     0.155727\n",
       "8     0.221522\n",
       "9     0.008341\n",
       "10   -0.055707\n",
       "11   -0.227284\n",
       "12   -0.294441\n",
       "13   -0.092248\n",
       "14   -0.197902\n",
       "16   -0.051317\n",
       "18   -0.153884\n",
       "19   -0.301404\n",
       "20   -0.144884\n",
       "21    0.335905\n",
       "22   -0.143106\n",
       "23   -0.087745\n",
       "24   -0.078326\n",
       "25   -0.064984\n",
       "28   -0.087156\n",
       "29   -0.137222\n",
       "30   -0.025743\n",
       "Name: degree assortativity, dtype: float64"
      ]
     },
     "execution_count": 17,
     "metadata": {},
     "output_type": "execute_result"
    }
   ],
   "source": [
    "stats['degree assortativity']"
   ]
  },
  {
   "cell_type": "code",
   "execution_count": 18,
   "id": "intellectual-disney",
   "metadata": {
    "execution": {
     "iopub.execute_input": "2021-06-21T15:25:31.330161Z",
     "iopub.status.busy": "2021-06-21T15:25:31.329922Z",
     "iopub.status.idle": "2021-06-21T15:25:31.446676Z",
     "shell.execute_reply": "2021-06-21T15:25:31.445331Z",
     "shell.execute_reply.started": "2021-06-21T15:25:31.330129Z"
    },
    "tags": []
   },
   "outputs": [
    {
     "data": {
      "text/html": [
       "<div>\n",
       "<style scoped>\n",
       "    .dataframe tbody tr th:only-of-type {\n",
       "        vertical-align: middle;\n",
       "    }\n",
       "\n",
       "    .dataframe tbody tr th {\n",
       "        vertical-align: top;\n",
       "    }\n",
       "\n",
       "    .dataframe thead th {\n",
       "        text-align: right;\n",
       "    }\n",
       "</style>\n",
       "<table border=\"1\" class=\"dataframe\">\n",
       "  <thead>\n",
       "    <tr style=\"text-align: right;\">\n",
       "      <th></th>\n",
       "      <th>label</th>\n",
       "      <th>Scientific domain</th>\n",
       "      <th>edge type</th>\n",
       "      <th>nodes</th>\n",
       "      <th>I</th>\n",
       "      <th>II-A</th>\n",
       "      <th>II-B</th>\n",
       "      <th>III</th>\n",
       "    </tr>\n",
       "  </thead>\n",
       "  <tbody>\n",
       "    <tr>\n",
       "      <th>12</th>\n",
       "      <td>Rado</td>\n",
       "      <td>Social</td>\n",
       "      <td>multi</td>\n",
       "      <td>167</td>\n",
       "      <td>0.856</td>\n",
       "      <td>0.924</td>\n",
       "      <td>0.852</td>\n",
       "      <td>0.902</td>\n",
       "    </tr>\n",
       "    <tr>\n",
       "      <th>13</th>\n",
       "      <td>UC</td>\n",
       "      <td>Information</td>\n",
       "      <td>multi</td>\n",
       "      <td>899</td>\n",
       "      <td>0.746</td>\n",
       "      <td>0.894</td>\n",
       "      <td>0.744</td>\n",
       "      <td>0.873</td>\n",
       "    </tr>\n",
       "    <tr>\n",
       "      <th>30</th>\n",
       "      <td>EU</td>\n",
       "      <td>Social</td>\n",
       "      <td>multi</td>\n",
       "      <td>986</td>\n",
       "      <td>0.824</td>\n",
       "      <td>0.872</td>\n",
       "      <td>0.811</td>\n",
       "      <td>0.849</td>\n",
       "    </tr>\n",
       "    <tr>\n",
       "      <th>19</th>\n",
       "      <td>Dem</td>\n",
       "      <td>Social</td>\n",
       "      <td>multi</td>\n",
       "      <td>1891</td>\n",
       "      <td>0.919</td>\n",
       "      <td>0.948</td>\n",
       "      <td>0.919</td>\n",
       "      <td>0.938</td>\n",
       "    </tr>\n",
       "    <tr>\n",
       "      <th>18</th>\n",
       "      <td>bitA</td>\n",
       "      <td>Social</td>\n",
       "      <td>simple</td>\n",
       "      <td>3683</td>\n",
       "      <td>0.862</td>\n",
       "      <td>0.946</td>\n",
       "      <td>0.946</td>\n",
       "      <td>0.940</td>\n",
       "    </tr>\n",
       "    <tr>\n",
       "      <th>20</th>\n",
       "      <td>bitOT</td>\n",
       "      <td>Social</td>\n",
       "      <td>simple</td>\n",
       "      <td>5573</td>\n",
       "      <td>0.825</td>\n",
       "      <td>0.947</td>\n",
       "      <td>0.947</td>\n",
       "      <td>0.939</td>\n",
       "    </tr>\n",
       "    <tr>\n",
       "      <th>21</th>\n",
       "      <td>chess</td>\n",
       "      <td>Information</td>\n",
       "      <td>simple</td>\n",
       "      <td>6050</td>\n",
       "      <td>0.656</td>\n",
       "      <td>0.741</td>\n",
       "      <td>0.741</td>\n",
       "      <td>0.736</td>\n",
       "    </tr>\n",
       "    <tr>\n",
       "      <th>6</th>\n",
       "      <td>HepTh</td>\n",
       "      <td>Information</td>\n",
       "      <td>multi</td>\n",
       "      <td>6798</td>\n",
       "      <td>0.763</td>\n",
       "      <td>0.833</td>\n",
       "      <td>0.776</td>\n",
       "      <td>0.819</td>\n",
       "    </tr>\n",
       "    <tr>\n",
       "      <th>2</th>\n",
       "      <td>HepPh</td>\n",
       "      <td>Information</td>\n",
       "      <td>multi</td>\n",
       "      <td>16959</td>\n",
       "      <td>0.820</td>\n",
       "      <td>0.870</td>\n",
       "      <td>0.834</td>\n",
       "      <td>0.868</td>\n",
       "    </tr>\n",
       "    <tr>\n",
       "      <th>5</th>\n",
       "      <td>Condm</td>\n",
       "      <td>Social</td>\n",
       "      <td>multi</td>\n",
       "      <td>17218</td>\n",
       "      <td>0.691</td>\n",
       "      <td>0.759</td>\n",
       "      <td>0.706</td>\n",
       "      <td>0.728</td>\n",
       "    </tr>\n",
       "    <tr>\n",
       "      <th>14</th>\n",
       "      <td>SX-MO</td>\n",
       "      <td>Social</td>\n",
       "      <td>multi</td>\n",
       "      <td>24818</td>\n",
       "      <td>0.873</td>\n",
       "      <td>0.942</td>\n",
       "      <td>0.909</td>\n",
       "      <td>0.933</td>\n",
       "    </tr>\n",
       "    <tr>\n",
       "      <th>9</th>\n",
       "      <td>D-rep</td>\n",
       "      <td>Social</td>\n",
       "      <td>simple</td>\n",
       "      <td>30398</td>\n",
       "      <td>0.840</td>\n",
       "      <td>0.867</td>\n",
       "      <td>0.867</td>\n",
       "      <td>0.865</td>\n",
       "    </tr>\n",
       "    <tr>\n",
       "      <th>28</th>\n",
       "      <td>Rbody</td>\n",
       "      <td>Technological</td>\n",
       "      <td>multi</td>\n",
       "      <td>35010</td>\n",
       "      <td>0.875</td>\n",
       "      <td>0.905</td>\n",
       "      <td>0.854</td>\n",
       "      <td>0.890</td>\n",
       "    </tr>\n",
       "    <tr>\n",
       "      <th>29</th>\n",
       "      <td>Rtit</td>\n",
       "      <td>Technological</td>\n",
       "      <td>multi</td>\n",
       "      <td>53018</td>\n",
       "      <td>0.908</td>\n",
       "      <td>0.929</td>\n",
       "      <td>0.906</td>\n",
       "      <td>0.925</td>\n",
       "    </tr>\n",
       "    <tr>\n",
       "      <th>4</th>\n",
       "      <td>FB-w</td>\n",
       "      <td>Social</td>\n",
       "      <td>simple</td>\n",
       "      <td>55387</td>\n",
       "      <td>0.757</td>\n",
       "      <td>0.795</td>\n",
       "      <td>0.795</td>\n",
       "      <td>0.788</td>\n",
       "    </tr>\n",
       "    <tr>\n",
       "      <th>8</th>\n",
       "      <td>FB-l</td>\n",
       "      <td>Social</td>\n",
       "      <td>simple</td>\n",
       "      <td>55387</td>\n",
       "      <td>0.769</td>\n",
       "      <td>0.797</td>\n",
       "      <td>0.797</td>\n",
       "      <td>0.775</td>\n",
       "    </tr>\n",
       "    <tr>\n",
       "      <th>3</th>\n",
       "      <td>Enron</td>\n",
       "      <td>Social</td>\n",
       "      <td>multi</td>\n",
       "      <td>87273</td>\n",
       "      <td>0.848</td>\n",
       "      <td>0.915</td>\n",
       "      <td>0.873</td>\n",
       "      <td>0.909</td>\n",
       "    </tr>\n",
       "    <tr>\n",
       "      <th>24</th>\n",
       "      <td>loans</td>\n",
       "      <td>Information</td>\n",
       "      <td>simple</td>\n",
       "      <td>89269</td>\n",
       "      <td>0.787</td>\n",
       "      <td>0.950</td>\n",
       "      <td>0.950</td>\n",
       "      <td>0.946</td>\n",
       "    </tr>\n",
       "    <tr>\n",
       "      <th>16</th>\n",
       "      <td>trust</td>\n",
       "      <td>Social</td>\n",
       "      <td>simple</td>\n",
       "      <td>114467</td>\n",
       "      <td>0.892</td>\n",
       "      <td>0.940</td>\n",
       "      <td>0.940</td>\n",
       "      <td>0.937</td>\n",
       "    </tr>\n",
       "    <tr>\n",
       "      <th>25</th>\n",
       "      <td>Wiki</td>\n",
       "      <td>Social</td>\n",
       "      <td>multi</td>\n",
       "      <td>116836</td>\n",
       "      <td>0.866</td>\n",
       "      <td>0.947</td>\n",
       "      <td>0.896</td>\n",
       "      <td>0.939</td>\n",
       "    </tr>\n",
       "    <tr>\n",
       "      <th>11</th>\n",
       "      <td>D-v</td>\n",
       "      <td>Information</td>\n",
       "      <td>simple</td>\n",
       "      <td>139409</td>\n",
       "      <td>0.932</td>\n",
       "      <td>0.932</td>\n",
       "      <td>0.932</td>\n",
       "      <td>0.939</td>\n",
       "    </tr>\n",
       "    <tr>\n",
       "      <th>22</th>\n",
       "      <td>SX-AU</td>\n",
       "      <td>Social</td>\n",
       "      <td>multi</td>\n",
       "      <td>159316</td>\n",
       "      <td>0.944</td>\n",
       "      <td>0.973</td>\n",
       "      <td>0.959</td>\n",
       "      <td>0.970</td>\n",
       "    </tr>\n",
       "    <tr>\n",
       "      <th>23</th>\n",
       "      <td>SX-SU</td>\n",
       "      <td>Social</td>\n",
       "      <td>multi</td>\n",
       "      <td>194085</td>\n",
       "      <td>0.920</td>\n",
       "      <td>0.962</td>\n",
       "      <td>0.946</td>\n",
       "      <td>0.961</td>\n",
       "    </tr>\n",
       "    <tr>\n",
       "      <th>10</th>\n",
       "      <td>D-f</td>\n",
       "      <td>Social</td>\n",
       "      <td>simple</td>\n",
       "      <td>279374</td>\n",
       "      <td>0.896</td>\n",
       "      <td>0.928</td>\n",
       "      <td>0.928</td>\n",
       "      <td>0.924</td>\n",
       "    </tr>\n",
       "    <tr>\n",
       "      <th>7</th>\n",
       "      <td>AMin</td>\n",
       "      <td>Social</td>\n",
       "      <td>multi</td>\n",
       "      <td>855165</td>\n",
       "      <td>0.718</td>\n",
       "      <td>0.838</td>\n",
       "      <td>0.804</td>\n",
       "      <td>0.816</td>\n",
       "    </tr>\n",
       "    <tr>\n",
       "      <th>1</th>\n",
       "      <td>DBLP</td>\n",
       "      <td>Social</td>\n",
       "      <td>multi</td>\n",
       "      <td>1824701</td>\n",
       "      <td>0.685</td>\n",
       "      <td>0.822</td>\n",
       "      <td>0.743</td>\n",
       "      <td>0.786</td>\n",
       "    </tr>\n",
       "  </tbody>\n",
       "</table>\n",
       "</div>"
      ],
      "text/plain": [
       "    label Scientific domain edge type    nodes      I   II-A   II-B    III\n",
       "12   Rado            Social     multi      167  0.856  0.924  0.852  0.902\n",
       "13     UC       Information     multi      899  0.746  0.894  0.744  0.873\n",
       "30     EU            Social     multi      986  0.824  0.872  0.811  0.849\n",
       "19    Dem            Social     multi     1891  0.919  0.948  0.919  0.938\n",
       "18   bitA            Social    simple     3683  0.862  0.946  0.946  0.940\n",
       "20  bitOT            Social    simple     5573  0.825  0.947  0.947  0.939\n",
       "21  chess       Information    simple     6050  0.656  0.741  0.741  0.736\n",
       "6   HepTh       Information     multi     6798  0.763  0.833  0.776  0.819\n",
       "2   HepPh       Information     multi    16959  0.820  0.870  0.834  0.868\n",
       "5   Condm            Social     multi    17218  0.691  0.759  0.706  0.728\n",
       "14  SX-MO            Social     multi    24818  0.873  0.942  0.909  0.933\n",
       "9   D-rep            Social    simple    30398  0.840  0.867  0.867  0.865\n",
       "28  Rbody     Technological     multi    35010  0.875  0.905  0.854  0.890\n",
       "29   Rtit     Technological     multi    53018  0.908  0.929  0.906  0.925\n",
       "4    FB-w            Social    simple    55387  0.757  0.795  0.795  0.788\n",
       "8    FB-l            Social    simple    55387  0.769  0.797  0.797  0.775\n",
       "3   Enron            Social     multi    87273  0.848  0.915  0.873  0.909\n",
       "24  loans       Information    simple    89269  0.787  0.950  0.950  0.946\n",
       "16  trust            Social    simple   114467  0.892  0.940  0.940  0.937\n",
       "25   Wiki            Social     multi   116836  0.866  0.947  0.896  0.939\n",
       "11    D-v       Information    simple   139409  0.932  0.932  0.932  0.939\n",
       "22  SX-AU            Social     multi   159316  0.944  0.973  0.959  0.970\n",
       "23  SX-SU            Social     multi   194085  0.920  0.962  0.946  0.961\n",
       "10    D-f            Social    simple   279374  0.896  0.928  0.928  0.924\n",
       "7    AMin            Social     multi   855165  0.718  0.838  0.804  0.816\n",
       "1    DBLP            Social     multi  1824701  0.685  0.822  0.743  0.786"
      ]
     },
     "execution_count": 18,
     "metadata": {},
     "output_type": "execute_result"
    }
   ],
   "source": [
    "table"
   ]
  }
 ],
 "metadata": {
  "kernelspec": {
   "display_name": "Python 3",
   "language": "python",
   "name": "python3"
  },
  "language_info": {
   "codemirror_mode": {
    "name": "ipython",
    "version": 3
   },
   "file_extension": ".py",
   "mimetype": "text/x-python",
   "name": "python",
   "nbconvert_exporter": "python",
   "pygments_lexer": "ipython3",
   "version": "3.9.4"
  }
 },
 "nbformat": 4,
 "nbformat_minor": 5
}
