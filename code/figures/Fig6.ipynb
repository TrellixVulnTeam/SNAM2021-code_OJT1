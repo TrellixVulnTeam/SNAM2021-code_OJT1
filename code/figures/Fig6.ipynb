{
 "cells": [
  {
   "cell_type": "code",
   "execution_count": 1,
   "id": "satellite-mailing",
   "metadata": {
    "execution": {
     "iopub.execute_input": "2021-06-09T17:04:50.248906Z",
     "iopub.status.busy": "2021-06-09T17:04:50.248663Z",
     "iopub.status.idle": "2021-06-09T17:04:51.146010Z",
     "shell.execute_reply": "2021-06-09T17:04:51.145490Z",
     "shell.execute_reply.started": "2021-06-09T17:04:50.248842Z"
    },
    "tags": []
   },
   "outputs": [
    {
     "name": "stdout",
     "output_type": "stream",
     "text": [
      "/data/bruingjde/publications/SNAM2021-code\n"
     ]
    }
   ],
   "source": [
    "%cd /data/bruingjde/publications/SNAM2021-code/\n",
    "\n",
    "from constants import *"
   ]
  },
  {
   "cell_type": "markdown",
   "id": "metric-commercial",
   "metadata": {},
   "source": [
    "# Time aware"
   ]
  },
  {
   "cell_type": "code",
   "execution_count": 2,
   "id": "positive-northern",
   "metadata": {
    "execution": {
     "iopub.execute_input": "2021-06-09T17:04:51.146971Z",
     "iopub.status.busy": "2021-06-09T17:04:51.146848Z",
     "iopub.status.idle": "2021-06-09T17:10:56.596390Z",
     "shell.execute_reply": "2021-06-09T17:10:56.595008Z",
     "shell.execute_reply.started": "2021-06-09T17:04:51.146954Z"
    },
    "tags": []
   },
   "outputs": [],
   "source": [
    "def logistic_regression_I_II_III_hypergraph(network: int):\n",
    "  X = dict()\n",
    "  # Type I features\n",
    "  for heuristic in ['aa', 'cn', 'jc', 'pa']:\n",
    "    X[heuristic] = (\n",
    "      np.load(f'data/{network:02}/features/time_agnostic/{heuristic}.npy'))\n",
    "    \n",
    "  # Type II features\n",
    "  for time_strategy in time_strategies:\n",
    "    for nodepair_strategy in nodepair_strategies:\n",
    "      for aggregation_strategy in ['q0', 'q25', 'q50', 'q75', 'q100', \n",
    "                                   'm0', 'm1', 'm2', 'm3']:\n",
    "        X[(time_strategy, nodepair_strategy, aggregation_strategy)] = (\n",
    "          np.load(\n",
    "            f'data/{network:02}/features/time_node/'\n",
    "            f'{time_strategy}_{nodepair_strategy}_{aggregation_strategy}.npy'))\n",
    "  # Type III features      \n",
    "  for heuristic in ['aa', 'cn', 'jc', 'pa']:  \n",
    "    for time_strategy in time_strategies:\n",
    "      for aggregation_strategy in ['q0', 'q25', 'q50', 'q75', 'q100', \n",
    "                                   'm0', 'm1']:\n",
    "          X[(heuristic, time_strategy, aggregation_strategy)] = (\n",
    "            np.load(\n",
    "              f'data/{network:02}/features/time_edge/'\n",
    "              f'{heuristic}_{time_strategy}_{aggregation_strategy}.npy'))\n",
    "    \n",
    "  X = pd.DataFrame(X)\n",
    "    \n",
    "  y = np.load(f'data/{network:02}/targets_sampled.npy')\n",
    "  \n",
    "  X_train, X_test, y_train, y_test = (\n",
    "    sklearn.model_selection.train_test_split(X, y))\n",
    "  pipe = sklearn.pipeline.make_pipeline(\n",
    "    sklearn.preprocessing.StandardScaler(),\n",
    "    sklearn.linear_model.LogisticRegression(max_iter=10000))\n",
    "  pipe.fit(X_train, y_train)\n",
    "  \n",
    "  auc = sklearn.metrics.roc_auc_score(\n",
    "    y_true=y_test, y_score=pipe.predict_proba(X_test)[:,1])\n",
    "  \n",
    "  return auc\n",
    "\n",
    "def logistic_regression_I_II_III_simplegraph(network: int):\n",
    "  X = dict()\n",
    "  # Type I\n",
    "  for heuristic in ['aa', 'cn', 'jc', 'pa']:\n",
    "    X[heuristic] = (\n",
    "      np.load(f'data/{network:02}/features/time_agnostic/{heuristic}.npy'))\n",
    "  # Type II \n",
    "  for time_strategy in time_strategies:\n",
    "    for nodepair_strategy in nodepair_strategies:\n",
    "        X[(time_strategy, nodepair_strategy)] = (\n",
    "          np.load(\n",
    "            f'data/{network:02}/features/time_node/'\n",
    "            f'{time_strategy}_{nodepair_strategy}.npy'))\n",
    "  # Type III\n",
    "  for heuristic in ['aa', 'cn', 'jc', 'pa']:  \n",
    "    for time_strategy in time_strategies:\n",
    "      X[(heuristic, time_strategy)] = (\n",
    "        np.load(\n",
    "          f'data/{network:02}/features/time_edge/'\n",
    "          f'{heuristic}_{time_strategy}.npy'))\n",
    "      \n",
    "  X = pd.DataFrame(X)\n",
    "    \n",
    "  y = np.load(f'data/{network:02}/targets_sampled.npy')\n",
    "  \n",
    "  X_train, X_test, y_train, y_test = (\n",
    "    sklearn.model_selection.train_test_split(X, y))\n",
    "  pipe = sklearn.pipeline.make_pipeline(\n",
    "    sklearn.preprocessing.StandardScaler(),\n",
    "    sklearn.linear_model.LogisticRegression(max_iter=10000))\n",
    "  pipe.fit(X_train, y_train)\n",
    "  \n",
    "  auc = sklearn.metrics.roc_auc_score(\n",
    "    y_true=y_test, y_score=pipe.predict_proba(X_test)[:,1])\n",
    "  \n",
    "  return auc\n",
    "\n",
    "IIa = {\n",
    "  network: logistic_regression_I_II_III_hypergraph(network) \n",
    "  for network in hypergraph_indices} | {\n",
    "  network: logistic_regression_I_II_III_simplegraph(network) \n",
    "  for network in simplegraph_indices\n",
    "}"
   ]
  },
  {
   "cell_type": "code",
   "execution_count": 3,
   "id": "elegant-immunology",
   "metadata": {
    "execution": {
     "iopub.execute_input": "2021-06-09T17:10:56.598435Z",
     "iopub.status.busy": "2021-06-09T17:10:56.598191Z",
     "iopub.status.idle": "2021-06-09T17:10:56.645292Z",
     "shell.execute_reply": "2021-06-09T17:10:56.644356Z",
     "shell.execute_reply.started": "2021-06-09T17:10:56.598404Z"
    },
    "tags": []
   },
   "outputs": [],
   "source": [
    "xlabel = 'Without multi-edge aggregation (AUC)'\n",
    "ylabel = 'With multi-edge aggregation (AUC)'\n",
    "\n",
    "data = pd.DataFrame(\n",
    "  {\n",
    "    xlabel: pd.read_pickle('code/figures/IIb2.pkl'),\n",
    "    ylabel: IIa,\n",
    "    'Scientific domain': pd.Series(networks.copy()['category']).str.title()\n",
    "  }\n",
    ")\n",
    "data['Without multi-edge aggregation (AUC)'].fillna(\n",
    "  data['With multi-edge aggregation (AUC)'], inplace=True)\n",
    "data = data[[index in hypergraph_indices for index in data.index]]"
   ]
  },
  {
   "cell_type": "code",
   "execution_count": 4,
   "id": "capable-antique",
   "metadata": {
    "execution": {
     "iopub.execute_input": "2021-06-09T17:10:56.646668Z",
     "iopub.status.busy": "2021-06-09T17:10:56.646460Z",
     "iopub.status.idle": "2021-06-09T17:10:57.281428Z",
     "shell.execute_reply": "2021-06-09T17:10:57.280347Z",
     "shell.execute_reply.started": "2021-06-09T17:10:56.646641Z"
    },
    "tags": []
   },
   "outputs": [
    {
     "name": "stderr",
     "output_type": "stream",
     "text": [
      "findfont: Font family ['sans-serif'] not found. Falling back to DejaVu Sans.\n",
      "findfont: Generic family 'sans-serif' not found because none of the following families were found: Helvetica\n"
     ]
    },
    {
     "data": {
      "image/png": "[encoded data removed]",
      "text/plain": [
       "<Figure size 237.6x237.6 with 1 Axes>"
      ]
     },
     "metadata": {
      "needs_background": "light"
     },
     "output_type": "display_data"
    }
   ],
   "source": [
    "auc_values = data[[xlabel, ylabel]].values.flatten()\n",
    "lim = (.6, 1)\n",
    "\n",
    "fontsize=8\n",
    "rc = {\n",
    "  'xtick.top': True, 'ytick.right': True, 'figure.figsize': (3.3,3.3), \n",
    "  'axes.titlesize': fontsize, \n",
    "  'axes.labelsize': fontsize, \n",
    "  'xtick.labelsize': fontsize, \n",
    "  'ytick.labelsize': fontsize, \n",
    "  'legend.fontsize': fontsize, \n",
    "  'legend.title_fontsize': fontsize,\n",
    "  'lines.linewidth': 1,\n",
    "#   'lines.markersize': 4,\n",
    "  'legend.handlelength': .1,\n",
    "  'font.family': 'sans-serif',\n",
    "  'font.sans-serif': 'Helvetica',\n",
    "  'savefig.transparent': True\n",
    "}\n",
    "\n",
    "with plt.rc_context(rc):\n",
    "  ax = sns.scatterplot(data=data, x=xlabel, y=ylabel, hue='Scientific domain', \n",
    "                  style='Scientific domain')\n",
    "  sns.regplot(data=data, x=xlabel, y=ylabel, scatter=False, color='black', ax=ax)\n",
    "  ax.axline((0,0), (1,1), ls='--', c='grey')\n",
    "  ax.axis('scaled')\n",
    "  ax.axis([.7, 1, .7, 1])\n",
    "\n",
    "  ax.xaxis.set_minor_locator(matplotlib.ticker.MultipleLocator(.01))\n",
    "  ax.yaxis.set_minor_locator(matplotlib.ticker.MultipleLocator(.01))\n",
    "  ax.xaxis.set_major_locator(matplotlib.ticker.MultipleLocator(.1))\n",
    "  ax.yaxis.set_major_locator(matplotlib.ticker.MultipleLocator(.1))\n",
    "  plt.tight_layout()\n",
    "  ax.legend(title='Domain', loc='lower right')\n",
    "  plt.savefig('code/figures/output/Fig6.pdf')"
   ]
  },
  {
   "cell_type": "code",
   "execution_count": null,
   "id": "worldwide-manual",
   "metadata": {},
   "outputs": [],
   "source": []
  }
 ],
 "metadata": {
  "kernelspec": {
   "display_name": "Python 3",
   "language": "python",
   "name": "python3"
  },
  "language_info": {
   "codemirror_mode": {
    "name": "ipython",
    "version": 3
   },
   "file_extension": ".py",
   "mimetype": "text/x-python",
   "name": "python",
   "nbconvert_exporter": "python",
   "pygments_lexer": "ipython3",
   "version": "3.9.4"
  }
 },
 "nbformat": 4,
 "nbformat_minor": 5
}
